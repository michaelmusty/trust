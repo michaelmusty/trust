{
 "cells": [
  {
   "cell_type": "markdown",
   "metadata": {},
   "source": [
    "# Trust Simulation"
   ]
  },
  {
   "cell_type": "markdown",
   "metadata": {},
   "source": [
    "### initial settings and classes"
   ]
  },
  {
   "cell_type": "code",
   "execution_count": null,
   "metadata": {
    "collapsed": false
   },
   "outputs": [],
   "source": [
    "# modules\n",
    "import random\n",
    "import sympy\n",
    "from sympy import *\n",
    "import numpy as np\n",
    "import matplotlib.pyplot as plt\n",
    "\n",
    "# for nice printing if we want to do symbolic stuff\n",
    "# init_printing(use_unicode=True)\n",
    "# N, M, beta, mu, nu, c, r, T, b = symbols('N, M, beta, mu, nu, c, r, T, b')\n",
    "\n",
    "# initial settings\n",
    "N = 2  # number of players\n",
    "M = 2  # number of groups\n",
    "beta = .1  # intensity of selector\n",
    "mu = .0001  # probability that we mutate\n",
    "nu = .01  # probability that we migrate\n",
    "c = 1 # cash\n",
    "r = .5 # return\n",
    "T = 100 # total time steps\n",
    "b = .25 # bin size \n",
    "\n",
    "# classes\n",
    "class Player:\n",
    "    random.seed()\n",
    "    p = random.uniform(0, 1)  # proportion invested in players from the same group\n",
    "    q = random.uniform(0, 1)  # proportion returned to players from the same group\n",
    "    g = random.randint(1, M)  # group\n",
    "\n",
    "# list of all players\n",
    "P = [Player() for i in range(N)]"
   ]
  },
  {
   "cell_type": "markdown",
   "metadata": {},
   "source": [
    "### some preliminary functions"
   ]
  },
  {
   "cell_type": "code",
   "execution_count": null,
   "metadata": {
    "collapsed": false
   },
   "outputs": [],
   "source": [
    "# input: P1, P2, 2 players in sequence\n",
    "# output: payoff for P1 interacting with P2\n",
    "def interaction(P1, P2):\n",
    "    payoff = c-P1.p  # initial investment in P2\n",
    "    payoff += P1.p*r*P2.q  # gain for having invested in P2\n",
    "    payoff += P2.p*r*(1-P1.q)  # gain by not returning investment to P2\n",
    "    return payoff\n",
    "\n",
    "# input: 1 player\n",
    "# output: the player's fitness\n",
    "def fitness(P1):\n",
    "    payoff = 0\n",
    "    for P2 in P:\n",
    "        if P2.g == P1.g and P2 != P1:\n",
    "            payoff += interaction(P1, P2)\n",
    "    return np.exp(beta*payoff)"
   ]
  },
  {
   "cell_type": "markdown",
   "metadata": {},
   "source": [
    "### iteration"
   ]
  },
  {
   "cell_type": "code",
   "execution_count": null,
   "metadata": {
    "collapsed": false
   },
   "outputs": [],
   "source": [
    "# compute total fitness\n",
    "f = 0\n",
    "for P1 in P:\n",
    "    f += fitness(P1)\n",
    "\n",
    "# compute scaled fitness for each player\n",
    "F = [fitness(P[i])/f for i in range(N)]\n"
   ]
  },
  {
   "cell_type": "markdown",
   "metadata": {},
   "source": [
    "### plots"
   ]
  }
 ],
 "metadata": {
  "kernelspec": {
   "display_name": "Python 3",
   "language": "python",
   "name": "python3"
  },
  "language_info": {
   "codemirror_mode": {
    "name": "ipython",
    "version": 3
   },
   "file_extension": ".py",
   "mimetype": "text/x-python",
   "name": "python",
   "nbconvert_exporter": "python",
   "pygments_lexer": "ipython3",
   "version": "3.5.1"
  }
 },
 "nbformat": 4,
 "nbformat_minor": 0
}
