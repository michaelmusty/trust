{
 "cells": [
  {
   "cell_type": "markdown",
   "metadata": {},
   "source": [
    "# Trust Simulation"
   ]
  },
  {
   "cell_type": "markdown",
   "metadata": {},
   "source": [
    "### initial settings and classes"
   ]
  },
  {
   "cell_type": "code",
   "execution_count": 7,
   "metadata": {
    "collapsed": false
   },
   "outputs": [],
   "source": [
    "# modules\n",
    "import random\n",
    "import matplotlib\n",
    "import sympy\n",
    "from sympy import *\n",
    "\n",
    "# for nice printing if we want to do symbolic stuff\n",
    "# init_printing(use_unicode=True)\n",
    "# N, M, beta, mu, nu, c, r, T, b = symbols('N, M, beta, mu, nu, c, r, T, b')\n",
    "\n",
    "# initial settings\n",
    "N = 2  # number of players\n",
    "M = 2  # number of groups\n",
    "#beta = 1  # intensity of selector\n",
    "mu = .0001  # probability that we mutate\n",
    "nu = .01  # probability that we migrate\n",
    "c = 1 # cash\n",
    "r = .5 # return\n",
    "T = 100 # total time steps\n",
    "b = .25 # bin size \n",
    "\n",
    "# classes\n",
    "class Player:\n",
    "    random.seed()\n",
    "    p = random.uniform(0, 1)  # proportion invested in players from the same group\n",
    "    q = random.uniform(0, 1)  # proportion returned to players from the same group\n",
    "    g = random.randint(1, M)  # group\n",
    "\n",
    "# list of players\n",
    "P = [Player() for i in range(N)]"
   ]
  },
  {
   "cell_type": "markdown",
   "metadata": {},
   "source": [
    "### some preliminary functions"
   ]
  },
  {
   "cell_type": "code",
   "execution_count": 5,
   "metadata": {
    "collapsed": false
   },
   "outputs": [],
   "source": [
    "# input: 2 players in sequence\n",
    "# output: payoff for first player interacting with second player\n",
    "def interaction(P1, P2):\n",
    "    \n",
    "\n",
    "# input:\n",
    "# output:\n",
    "# def fitness(P1):\n",
    "    "
   ]
  },
  {
   "cell_type": "markdown",
   "metadata": {},
   "source": [
    "### iteration"
   ]
  },
  {
   "cell_type": "code",
   "execution_count": 11,
   "metadata": {
    "collapsed": false
   },
   "outputs": [
    {
     "name": "stdout",
     "output_type": "stream",
     "text": [
      "1\n",
      "1\n",
      "0\n"
     ]
    }
   ],
   "source": [
    "interaction(P[0], P[1])"
   ]
  },
  {
   "cell_type": "markdown",
   "metadata": {},
   "source": [
    "### plots"
   ]
  },
  {
   "cell_type": "code",
   "execution_count": null,
   "metadata": {
    "collapsed": true
   },
   "outputs": [],
   "source": []
  }
 ],
 "metadata": {
  "kernelspec": {
   "display_name": "Python 3",
   "language": "python",
   "name": "python3"
  },
  "language_info": {
   "codemirror_mode": {
    "name": "ipython",
    "version": 3
   },
   "file_extension": ".py",
   "mimetype": "text/x-python",
   "name": "python",
   "nbconvert_exporter": "python",
   "pygments_lexer": "ipython3",
   "version": "3.5.1"
  }
 },
 "nbformat": 4,
 "nbformat_minor": 0
}
